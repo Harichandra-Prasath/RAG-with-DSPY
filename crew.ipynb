{
 "cells": [
  {
   "cell_type": "code",
   "execution_count": 3,
   "metadata": {},
   "outputs": [],
   "source": [
    "!pip3 install 'crewai[tools]' convertapi > /dev/null"
   ]
  },
  {
   "cell_type": "code",
   "execution_count": 32,
   "metadata": {},
   "outputs": [
    {
     "data": {
      "text/plain": [
       "True"
      ]
     },
     "execution_count": 32,
     "metadata": {},
     "output_type": "execute_result"
    }
   ],
   "source": [
    "from crewai import Agent,Task,Crew\n",
    "from crewai_tools import BaseTool\n",
    "from dotenv import load_dotenv\n",
    "import convertapi\n",
    "import os\n",
    "\n",
    "load_dotenv(\".env\")\n"
   ]
  },
  {
   "cell_type": "code",
   "execution_count": 33,
   "metadata": {},
   "outputs": [],
   "source": [
    "convertapi.api_secret = os.environ[\"CONVERT_API_KEY\"]"
   ]
  },
  {
   "cell_type": "code",
   "execution_count": 45,
   "metadata": {},
   "outputs": [],
   "source": [
    "class Splitter(BaseTool):\n",
    "    name: str = \"Splitter\"\n",
    "    description: str = \"Used by agents to split pdf by pages and store them in a folder.'pdf_path' and 'output_directory' will be given as arguments.\"\n",
    "\n",
    "    def _run(self,pdf_path,output_directory):\n",
    "         convertapi.convert('split',{\n",
    "              'File':pdf_path\n",
    "         },from_format='pdf').save_files(output_directory)\n",
    "\n",
    "# class Lister(BaseTool):\n",
    "#     name: str = \"Lister\"\n",
    "#     description: str = \"Used by agents to list all files in directory. Returns list of strings indicating the file names.\"\n",
    "\n",
    "#     def _run(self,directory):\n",
    "#         return os.listdir(directory)\n",
    "\n",
    "class WaterMarker(BaseTool):\n",
    "     name: str = \"WaterMarker\"\n",
    "     description: str = \"Used by agents to watermark all the pdfs in the given directory.'directory' will be given as arguments\"\n",
    "\n",
    "     def _run(self,directory):\n",
    "        files = os.listdir(directory)\n",
    "        for file in files:\n",
    "            convertapi.convert('watermark', {\n",
    "    'File': \"res/\"+file,\n",
    "    'Text': 'MLX'\n",
    "}, from_format = 'pdf').save_files(directory)"
   ]
  },
  {
   "cell_type": "code",
   "execution_count": 46,
   "metadata": {},
   "outputs": [],
   "source": [
    "Handler =  Agent(\n",
    "    role=\"Pdf Master\",\n",
    "    goal=\"Performing various options on pdf by selecting appropriate tools.\",\n",
    "    backstory=\"\"\"You are an expert at working with pdfs.\n",
    "    You  are assigned to Extensively work with pdf.\n",
    "    You are capable of taking decisions on which tool to use from your diverse set of tools\"\"\",\n",
    "    verbose=True,\n",
    "    allow_delegation=False,\n",
    "    tools=[Splitter(),WaterMarker()],\n",
    ")"
   ]
  },
  {
   "cell_type": "code",
   "execution_count": 47,
   "metadata": {},
   "outputs": [],
   "source": [
    "task1 = Task(\n",
    "    description=\"On given pdf named 'Safari.pdf',Please split the pdfs into seperate pages\",\n",
    "    expected_output=\"Splitted pdf pages on 'res' directory\",\n",
    "    agent=Handler\n",
    ")\n",
    "\n",
    "task2 = Task(\n",
    "    description=\"On 'res' directory, Watermark all the pdfs\",\n",
    "    expected_output=\"Watermarked pdfs in 'res' directory\",\n",
    "    agent=Handler\n",
    ")"
   ]
  },
  {
   "cell_type": "code",
   "execution_count": 48,
   "metadata": {},
   "outputs": [
    {
     "name": "stderr",
     "output_type": "stream",
     "text": [
      "2024-04-15 11:26:04,126 - 140688607019008 - __init__.py-__init__:518 - WARNING: Overriding of current TracerProvider is not allowed\n"
     ]
    }
   ],
   "source": [
    "crew = Crew(\n",
    "    agents=[Handler],\n",
    "    tasks=[task1,task2],\n",
    "    verbose=2\n",
    ")"
   ]
  },
  {
   "cell_type": "code",
   "execution_count": 49,
   "metadata": {},
   "outputs": [
    {
     "name": "stdout",
     "output_type": "stream",
     "text": [
      "\u001b[1m\u001b[95m [DEBUG]: == Working Agent: Pdf Master\u001b[00m\n",
      "\u001b[1m\u001b[95m [INFO]: == Starting Task: On given pdf named 'Safari.pdf',Please split the pdfs into seperate pages\u001b[00m\n",
      "\n",
      "\n",
      "\u001b[1m> Entering new CrewAgentExecutor chain...\u001b[0m\n",
      "\u001b[32;1m\u001b[1;3mFirst, I need to split the given pdf into separate pages. For this, I can use the Splitter tool.\n",
      "\n",
      "Action: Splitter\n",
      "Action Input: {\"pdf_path\": \"Safari.pdf\", \"output_directory\": \"res\"}\n",
      "\u001b[0m\u001b[95m \n",
      "\n",
      "None\n",
      "\u001b[00m\n",
      "\u001b[32;1m\u001b[1;3mThought: I have successfully split the pdf into separate pages and stored them in the 'res' directory. There is no more action required, hence I can provide the final answer.\n",
      "\n",
      "Final Answer: The pdf named 'Safari.pdf' has been successfully split into separate pages and stored in the 'res' directory.\u001b[0m\n",
      "\n",
      "\u001b[1m> Finished chain.\u001b[0m\n",
      "\u001b[1m\u001b[92m [DEBUG]: == [Pdf Master] Task output: The pdf named 'Safari.pdf' has been successfully split into separate pages and stored in the 'res' directory.\n",
      "\n",
      "\u001b[00m\n",
      "\u001b[1m\u001b[95m [DEBUG]: == Working Agent: Pdf Master\u001b[00m\n",
      "\u001b[1m\u001b[95m [INFO]: == Starting Task: On 'res' directory, Watermark all the pdfs\u001b[00m\n",
      "\n",
      "\n",
      "\u001b[1m> Entering new CrewAgentExecutor chain...\u001b[0m\n",
      "\u001b[32;1m\u001b[1;3mSince the task requires me to watermark all the pdfs in the 'res' directory, I will use the WaterMarker tool to accomplish this task.\n",
      "\n",
      "Action: WaterMarker\n",
      "Action Input: {\"directory\": \"res\"}\n",
      "\u001b[0m\u001b[95m \n",
      "\n",
      "None\n",
      "\u001b[00m\n",
      "\u001b[32;1m\u001b[1;3mThought: I have used the WaterMarker tool as per the task requirement and successfully watermarked all the pdfs in the 'res' directory.\n",
      "Final Answer: All the pdfs in the 'res' directory have been watermarked successfully.\u001b[0m\n",
      "\n",
      "\u001b[1m> Finished chain.\u001b[0m\n",
      "\u001b[1m\u001b[92m [DEBUG]: == [Pdf Master] Task output: All the pdfs in the 'res' directory have been watermarked successfully.\n",
      "\n",
      "\u001b[00m\n"
     ]
    }
   ],
   "source": [
    "result = crew.kickoff()"
   ]
  }
 ],
 "metadata": {
  "kernelspec": {
   "display_name": ".venv",
   "language": "python",
   "name": "python3"
  },
  "language_info": {
   "codemirror_mode": {
    "name": "ipython",
    "version": 3
   },
   "file_extension": ".py",
   "mimetype": "text/x-python",
   "name": "python",
   "nbconvert_exporter": "python",
   "pygments_lexer": "ipython3",
   "version": "3.10.12"
  },
  "orig_nbformat": 4
 },
 "nbformat": 4,
 "nbformat_minor": 2
}
